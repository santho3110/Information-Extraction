{
 "cells": [
  {
   "cell_type": "code",
   "execution_count": 1,
   "metadata": {},
   "outputs": [],
   "source": [
    "import nltk\n",
    "import gzip, pickle\n",
    "import pandas as pd\n",
    "from nltk import conlltags2tree\n",
    "pd.set_option('display.max_colwidth', None)"
   ]
  },
  {
   "cell_type": "markdown",
   "metadata": {},
   "source": [
    "### Load and Understanding the Dataset\n",
    "\n",
    "The dataset is provided in five folds, each fold having a training, validation and a dict. Load the dataset using pickle and checkout the abservations."
   ]
  },
  {
   "cell_type": "code",
   "execution_count": 2,
   "metadata": {},
   "outputs": [],
   "source": [
    "file_name = 'data//ATIS-dataset//atis.fold0.pkl.gz'\n",
    "f = gzip.open(file_name)\n",
    "try:\n",
    "    train_set, valid_set, test_set, dicts = pickle.load(f, encoding='latin1')\n",
    "except:\n",
    "    print(\"usual\")\n",
    "    train_set, valid_set, test_set, dicts = pickle.load(f)\n",
    "finally:\n",
    "    f.close()"
   ]
  },
  {
   "cell_type": "code",
   "execution_count": 3,
   "metadata": {},
   "outputs": [
    {
     "name": "stdout",
     "output_type": "stream",
     "text": [
      "<class 'pandas.core.frame.DataFrame'>\n",
      "RangeIndex: 3983 entries, 0 to 3982\n",
      "Data columns (total 2 columns):\n",
      " #   Column  Non-Null Count  Dtype \n",
      "---  ------  --------------  ----- \n",
      " 0   Query   3983 non-null   object\n",
      " 1   label   3983 non-null   object\n",
      "dtypes: object(2)\n",
      "memory usage: 62.4+ KB\n"
     ]
    }
   ],
   "source": [
    "train_data = pd.DataFrame({\"Query\":train_set[0], \"label\":train_set[2]})\n",
    "valid_data = pd.DataFrame({\"Query\":valid_set[0], \"label\":valid_set[2]})\n",
    "test_data = pd.DataFrame({\"Query\":test_set[0], \"label\":test_set[2]})\n",
    "train_data.info()"
   ]
  },
  {
   "cell_type": "code",
   "execution_count": 4,
   "metadata": {},
   "outputs": [
    {
     "data": {
      "text/html": [
       "<div>\n",
       "<style scoped>\n",
       "    .dataframe tbody tr th:only-of-type {\n",
       "        vertical-align: middle;\n",
       "    }\n",
       "\n",
       "    .dataframe tbody tr th {\n",
       "        vertical-align: top;\n",
       "    }\n",
       "\n",
       "    .dataframe thead th {\n",
       "        text-align: right;\n",
       "    }\n",
       "</style>\n",
       "<table border=\"1\" class=\"dataframe\">\n",
       "  <thead>\n",
       "    <tr style=\"text-align: right;\">\n",
       "      <th></th>\n",
       "      <th>Query</th>\n",
       "      <th>label</th>\n",
       "    </tr>\n",
       "  </thead>\n",
       "  <tbody>\n",
       "    <tr>\n",
       "      <th>0</th>\n",
       "      <td>[554, 194, 268, 64, 62, 16, 8, 234, 481, 20, 40, 58, 234, 415, 205]</td>\n",
       "      <td>[126, 126, 126, 48, 126, 36, 35, 126, 126, 33, 126, 126, 126, 78, 123]</td>\n",
       "    </tr>\n",
       "    <tr>\n",
       "      <th>1</th>\n",
       "      <td>[554, 241, 481, 14, 200, 91, 26, 239]</td>\n",
       "      <td>[126, 126, 126, 126, 126, 2, 83, 83]</td>\n",
       "    </tr>\n",
       "    <tr>\n",
       "      <th>2</th>\n",
       "      <td>[232, 0, 273, 502, 254, 481, 165, 193, 208, 77, 502, 64]</td>\n",
       "      <td>[126, 126, 126, 126, 126, 126, 42, 126, 126, 48, 126, 78]</td>\n",
       "    </tr>\n",
       "    <tr>\n",
       "      <th>3</th>\n",
       "      <td>[439, 301, 481, 532, 22, 194, 208, 64, 502, 77]</td>\n",
       "      <td>[126, 126, 126, 2, 83, 126, 126, 48, 126, 78]</td>\n",
       "    </tr>\n",
       "    <tr>\n",
       "      <th>4</th>\n",
       "      <td>[439, 301, 481, 99, 410, 516, 208, 128, 502, 69]</td>\n",
       "      <td>[126, 126, 126, 21, 66, 117, 126, 48, 126, 78]</td>\n",
       "    </tr>\n",
       "    <tr>\n",
       "      <th>...</th>\n",
       "      <td>...</td>\n",
       "      <td>...</td>\n",
       "    </tr>\n",
       "    <tr>\n",
       "      <th>3978</th>\n",
       "      <td>[439, 301, 190, 105, 194, 359, 544, 471, 502, 452, 286]</td>\n",
       "      <td>[126, 126, 18, 92, 126, 66, 117, 48, 126, 78, 123]</td>\n",
       "    </tr>\n",
       "    <tr>\n",
       "      <th>3979</th>\n",
       "      <td>[358, 193, 532, 22, 11, 208, 415, 205, 502, 69, 554, 500, 40, 554, 104, 157, 481, 381, 458, 234, 73]</td>\n",
       "      <td>[126, 126, 2, 83, 43, 126, 48, 109, 126, 78, 126, 45, 126, 126, 126, 126, 126, 126, 126, 126, 126]</td>\n",
       "    </tr>\n",
       "    <tr>\n",
       "      <th>3980</th>\n",
       "      <td>[276, 347, 353, 374, 480, 89, 70, 7, 358, 163, 526, 353, 381, 480, 192, 73, 379, 40, 69]</td>\n",
       "      <td>[126, 126, 126, 126, 126, 126, 126, 126, 126, 126, 126, 126, 126, 126, 126, 126, 48, 126, 78]</td>\n",
       "    </tr>\n",
       "    <tr>\n",
       "      <th>3981</th>\n",
       "      <td>[241, 481, 37, 193, 10, 208, 77, 502, 351, 13, 339, 193]</td>\n",
       "      <td>[126, 126, 2, 126, 43, 126, 48, 126, 78, 126, 44, 126]</td>\n",
       "    </tr>\n",
       "    <tr>\n",
       "      <th>3982</th>\n",
       "      <td>[276, 32, 481, 194, 480, 58, 62, 209, 316, 239]</td>\n",
       "      <td>[126, 126, 126, 126, 126, 126, 126, 77, 122, 122]</td>\n",
       "    </tr>\n",
       "  </tbody>\n",
       "</table>\n",
       "<p>3983 rows × 2 columns</p>\n",
       "</div>"
      ],
      "text/plain": [
       "                                                                                                     Query  \\\n",
       "0                                      [554, 194, 268, 64, 62, 16, 8, 234, 481, 20, 40, 58, 234, 415, 205]   \n",
       "1                                                                    [554, 241, 481, 14, 200, 91, 26, 239]   \n",
       "2                                                 [232, 0, 273, 502, 254, 481, 165, 193, 208, 77, 502, 64]   \n",
       "3                                                          [439, 301, 481, 532, 22, 194, 208, 64, 502, 77]   \n",
       "4                                                         [439, 301, 481, 99, 410, 516, 208, 128, 502, 69]   \n",
       "...                                                                                                    ...   \n",
       "3978                                               [439, 301, 190, 105, 194, 359, 544, 471, 502, 452, 286]   \n",
       "3979  [358, 193, 532, 22, 11, 208, 415, 205, 502, 69, 554, 500, 40, 554, 104, 157, 481, 381, 458, 234, 73]   \n",
       "3980              [276, 347, 353, 374, 480, 89, 70, 7, 358, 163, 526, 353, 381, 480, 192, 73, 379, 40, 69]   \n",
       "3981                                              [241, 481, 37, 193, 10, 208, 77, 502, 351, 13, 339, 193]   \n",
       "3982                                                       [276, 32, 481, 194, 480, 58, 62, 209, 316, 239]   \n",
       "\n",
       "                                                                                                   label  \n",
       "0                                 [126, 126, 126, 48, 126, 36, 35, 126, 126, 33, 126, 126, 126, 78, 123]  \n",
       "1                                                                   [126, 126, 126, 126, 126, 2, 83, 83]  \n",
       "2                                              [126, 126, 126, 126, 126, 126, 42, 126, 126, 48, 126, 78]  \n",
       "3                                                          [126, 126, 126, 2, 83, 126, 126, 48, 126, 78]  \n",
       "4                                                         [126, 126, 126, 21, 66, 117, 126, 48, 126, 78]  \n",
       "...                                                                                                  ...  \n",
       "3978                                                  [126, 126, 18, 92, 126, 66, 117, 48, 126, 78, 123]  \n",
       "3979  [126, 126, 2, 83, 43, 126, 48, 109, 126, 78, 126, 45, 126, 126, 126, 126, 126, 126, 126, 126, 126]  \n",
       "3980       [126, 126, 126, 126, 126, 126, 126, 126, 126, 126, 126, 126, 126, 126, 126, 126, 48, 126, 78]  \n",
       "3981                                              [126, 126, 2, 126, 43, 126, 48, 126, 78, 126, 44, 126]  \n",
       "3982                                                   [126, 126, 126, 126, 126, 126, 126, 77, 122, 122]  \n",
       "\n",
       "[3983 rows x 2 columns]"
      ]
     },
     "execution_count": 4,
     "metadata": {},
     "output_type": "execute_result"
    }
   ],
   "source": [
    "train_data"
   ]
  },
  {
   "cell_type": "markdown",
   "metadata": {},
   "source": [
    "__Column 1: Query__\n",
    "\n",
    "The first list is the tokenized words of the queries, encoded by integers such as 554, 194, 268 ... and so on. For e.g. the first three integers 554, 194, 268 are encoded values of the words 'what', 'flights', 'leave' etc. "
   ]
  },
  {
   "cell_type": "markdown",
   "metadata": {},
   "source": [
    "#### A dictionary is provided along with the dataset that maps the integers ids to the actual words."
   ]
  },
  {
   "cell_type": "code",
   "execution_count": 5,
   "metadata": {},
   "outputs": [
    {
     "data": {
      "text/plain": [
       "127       daily\n",
       "140     departs\n",
       "315    missouri\n",
       "456    starting\n",
       "223       hello\n",
       "dtype: object"
      ]
     },
     "execution_count": 5,
     "metadata": {},
     "output_type": "execute_result"
    }
   ],
   "source": [
    "words = pd.Series(list(dicts['words2idx'].keys()), index=dicts['words2idx'].values())\n",
    "words.tail()"
   ]
  },
  {
   "cell_type": "code",
   "execution_count": 6,
   "metadata": {},
   "outputs": [
    {
     "data": {
      "text/plain": [
       "0    [what, flights, leave, atlanta, at, about, DIGIT, in, the, afternoon, and, arrive, in, san, francisco]\n",
       "1                                     [what, is, the, abbreviation, for, canadian, airlines, international]\n",
       "2                                 [i, 'd, like, to, know, the, earliest, flight, from, boston, to, atlanta]\n",
       "3                                              [show, me, the, us, air, flights, from, atlanta, to, boston]\n",
       "4                                      [show, me, the, cheapest, round, trips, from, dallas, to, baltimore]\n",
       "Name: query_text, dtype: object"
      ]
     },
     "execution_count": 6,
     "metadata": {},
     "output_type": "execute_result"
    }
   ],
   "source": [
    "### Recreate text query from the dataset\n",
    "train_data['query_text'] = train_data.Query.apply(lambda q: [words.at[i] for i in q])\n",
    "train_data['query_text'].head()"
   ]
  },
  {
   "cell_type": "code",
   "execution_count": 7,
   "metadata": {},
   "outputs": [],
   "source": [
    "valid_data['query_text'] = valid_data.Query.apply(lambda q: [words.at[i] for i in q])\n",
    "test_data['query_text'] = test_data.Query.apply(lambda q: [words.at[i] for i in q])"
   ]
  },
  {
   "cell_type": "markdown",
   "metadata": {},
   "source": [
    "__Column 2: Labels__\n",
    "\n",
    "Labels are similar to POS tags, where instead of using noun, verb, etc, we’ll use IOB (inside-outside-beginning) tags of entities like flight-time, source-city, etc. "
   ]
  },
  {
   "cell_type": "markdown",
   "metadata": {},
   "source": [
    "#### A similar dictionary is provided along with the dataset that maps the integers ids to the actual iob labels."
   ]
  },
  {
   "cell_type": "code",
   "execution_count": 8,
   "metadata": {},
   "outputs": [
    {
     "data": {
      "text/plain": [
       "0                   B-aircraft_code\n",
       "116    I-return_date.today_relative\n",
       "55                     B-month_name\n",
       "49             B-fromloc.state_code\n",
       "96           I-depart_time.end_time\n",
       "dtype: object"
      ]
     },
     "execution_count": 8,
     "metadata": {},
     "output_type": "execute_result"
    }
   ],
   "source": [
    "labels = pd.Series(list(dicts['labels2idx'].keys()), index=dicts['labels2idx'].values())\n",
    "labels.tail()"
   ]
  },
  {
   "cell_type": "code",
   "execution_count": 9,
   "metadata": {},
   "outputs": [
    {
     "data": {
      "text/plain": [
       "0    [O, O, O, B-fromloc.city_name, O, B-depart_time.time_relative, B-depart_time.time, O, O, B-depart_time.period_of_day, O, O, O, B-toloc.city_name, I-toloc.city_name]\n",
       "1                                                                                                         [O, O, O, O, O, B-airline_name, I-airline_name, I-airline_name]\n",
       "2                                                                                       [O, O, O, O, O, O, B-flight_mod, O, O, B-fromloc.city_name, O, B-toloc.city_name]\n",
       "3                                                                              [O, O, O, B-airline_name, I-airline_name, O, O, B-fromloc.city_name, O, B-toloc.city_name]\n",
       "4                                                                    [O, O, O, B-cost_relative, B-round_trip, I-round_trip, O, B-fromloc.city_name, O, B-toloc.city_name]\n",
       "Name: iob_labels, dtype: object"
      ]
     },
     "execution_count": 9,
     "metadata": {},
     "output_type": "execute_result"
    }
   ],
   "source": [
    "# Check IOB labels from the label dataset\n",
    "train_data['iob_labels'] = train_data.label.apply(lambda l: [labels.at[i] for i in l])\n",
    "train_data['iob_labels'].head()"
   ]
  },
  {
   "cell_type": "code",
   "execution_count": 10,
   "metadata": {},
   "outputs": [],
   "source": [
    "valid_data['iob_labels'] = valid_data.label.apply(lambda l: [labels.at[i] for i in l])\n",
    "test_data['iob_labels'] = test_data.label.apply(lambda l: [labels.at[i] for i in l])"
   ]
  },
  {
   "cell_type": "markdown",
   "metadata": {},
   "source": [
    "### IOB Labels\n",
    "\n",
    "IOB (or BIO) method tags each token in the sentence with one of the three labels: \n",
    "\n",
    "I - inside (the entity) \n",
    "O- outside (the entity)  \n",
    "B - beginning (of entity). \n",
    "\n",
    "IOB labeling is especially helpful if the entities contain multiple words. We would want our system to read words like ‘Air India’, ‘New Delhi’, etc, as single entities.\n",
    "\n",
    "Any entity with more than 2 words such as ‘Dallas Fort Worth’, ‘Smoke House Deli’, the first word of the entity would be labeled as B-entity and other words in it would be labeled as I-entity, rest would be labeled as O."
   ]
  },
  {
   "cell_type": "code",
   "execution_count": 11,
   "metadata": {},
   "outputs": [
    {
     "data": {
      "text/plain": [
       "[('please', 'O'),\n",
       " ('show', 'O'),\n",
       " ('me', 'O'),\n",
       " ('the', 'O'),\n",
       " ('return', 'O'),\n",
       " ('flight', 'O'),\n",
       " ('number', 'O'),\n",
       " ('from', 'O'),\n",
       " ('toronto', 'B-fromloc.city_name'),\n",
       " ('to', 'O'),\n",
       " ('st.', 'B-toloc.city_name'),\n",
       " ('petersburg', 'I-toloc.city_name')]"
      ]
     },
     "execution_count": 11,
     "metadata": {},
     "output_type": "execute_result"
    }
   ],
   "source": [
    "query_label = lambda idx: list(zip(train_data.query_text.at[idx], train_data.iob_labels.at[idx]))\n",
    "query_label(3900)"
   ]
  },
  {
   "cell_type": "code",
   "execution_count": 12,
   "metadata": {},
   "outputs": [
    {
     "data": {
      "text/plain": [
       "[('is', 'O'),\n",
       " ('there', 'O'),\n",
       " ('a', 'O'),\n",
       " ('flight', 'O'),\n",
       " ('between', 'O'),\n",
       " ('oakland', 'B-fromloc.city_name'),\n",
       " ('and', 'O'),\n",
       " ('boston', 'B-toloc.city_name'),\n",
       " ('with', 'O'),\n",
       " ('a', 'O'),\n",
       " ('stopover', 'O'),\n",
       " ('in', 'O'),\n",
       " ('dallas', 'B-stoploc.city_name'),\n",
       " ('fort', 'I-stoploc.city_name'),\n",
       " ('worth', 'I-stoploc.city_name'),\n",
       " ('on', 'O'),\n",
       " ('twa', 'B-airline_code')]"
      ]
     },
     "execution_count": 12,
     "metadata": {},
     "output_type": "execute_result"
    }
   ],
   "source": [
    "# Entities with more than one words in it will be tagged with prefix `i`\n",
    "query_label(3443)"
   ]
  },
  {
   "cell_type": "markdown",
   "metadata": {},
   "source": [
    "## Information Extacrion\n",
    "\n",
    "Retrieving structured information like enititis and/or relationship between entities from unstructured text data.\n",
    "\n",
    "### IE Pipeline\n",
    "\n",
    "__Sentence Tokenization__ sequence segmentation of text.\n",
    "\n",
    "__Word Tokenization__ breaks down sentences into tokens\n",
    "\n",
    "__PoS tagging__ assigning PoS tags to the tokens. The POS tags can be helpful in defining what words could form an entity.\n",
    "\n",
    "\n",
    "In __entity recognition__, every token is tagged with an IOB label and then nearby tokens are combined together basis their labels.\n",
    "\n",
    "__Relation Recognition__ is the task of identifying relationships between the named entities. Using entity recognition, we can identify places (pl), organisations (o), persons (p). Relation recognition will find the relation between (pl,o), such that o is located in pl. Or between (o,p), such that p is working in o, etc."
   ]
  },
  {
   "cell_type": "markdown",
   "metadata": {},
   "source": [
    "### Preprocessing\n",
    "\n",
    "Generally, initial tasks in preprocessig involves data cleaning, sentence and word tokenisation. The ATIS dataset that we have is already in tokenized form, that means we are ready to proceed with the next step of preprocessing. "
   ]
  },
  {
   "cell_type": "code",
   "execution_count": 13,
   "metadata": {},
   "outputs": [
    {
     "data": {
      "text/plain": [
       "0    [(what, WP), (flights, NNS), (leave, VBP), (atlanta, VBN), (at, IN), (about, RB), (DIGIT, NNP), (in, IN), (the, DT), (afternoon, NN), (and, CC), (arrive, NN), (in, IN), (san, JJ), (francisco, NN)]\n",
       "1                                                                                 [(what, WP), (is, VBZ), (the, DT), (abbreviation, NN), (for, IN), (canadian, JJ), (airlines, NNS), (international, JJ)]\n",
       "2                                                      [(i, JJ), ('d, MD), (like, VB), (to, TO), (know, VB), (the, DT), (earliest, JJS), (flight, NN), (from, IN), (boston, NN), (to, TO), (atlanta, VB)]\n",
       "3                                                                             [(show, VB), (me, PRP), (the, DT), (us, PRP), (air, NN), (flights, NNS), (from, IN), (atlanta, NN), (to, TO), (boston, VB)]\n",
       "4                                                                     [(show, VB), (me, PRP), (the, DT), (cheapest, JJS), (round, NN), (trips, NNS), (from, IN), (dallas, NN), (to, TO), (baltimore, VB)]\n",
       "Name: pos, dtype: object"
      ]
     },
     "execution_count": 13,
     "metadata": {},
     "output_type": "execute_result"
    }
   ],
   "source": [
    "train_data['pos'] = train_data['query_text'].apply(nltk.pos_tag)\n",
    "train_data['pos'].head()"
   ]
  },
  {
   "cell_type": "code",
   "execution_count": 14,
   "metadata": {},
   "outputs": [],
   "source": [
    "test_data['pos'] = test_data['query_text'].apply(nltk.pos_tag)\n",
    "valid_data['pos'] = valid_data['query_text'].apply(nltk.pos_tag)"
   ]
  },
  {
   "cell_type": "markdown",
   "metadata": {},
   "source": [
    "Now that we have converted the queries in the form (word, pos, label), we can convert them into a tree format and observe the actual entities more clearly (rather than IOB labels)."
   ]
  },
  {
   "cell_type": "code",
   "execution_count": 15,
   "metadata": {},
   "outputs": [],
   "source": [
    "word_pos_iob = lambda x: [tuple([t for t in p]+[l]) for p, l in zip(list(x.pos),x.iob_labels)]"
   ]
  },
  {
   "cell_type": "code",
   "execution_count": 16,
   "metadata": {},
   "outputs": [],
   "source": [
    "train_labels = train_data.apply(word_pos_iob, axis=1)\n",
    "test_labels = test_data.apply(word_pos_iob, axis=1)\n",
    "valid_labels = valid_data.apply(word_pos_iob, axis=1)"
   ]
  },
  {
   "cell_type": "code",
   "execution_count": 17,
   "metadata": {},
   "outputs": [
    {
     "data": {
      "text/plain": [
       "4    [(show, VB, O), (me, PRP, O), (the, DT, O), (cheapest, JJS, B-cost_relative), (round, NN, B-round_trip), (trips, NNS, I-round_trip), (from, IN, O), (dallas, NN, B-fromloc.city_name), (to, TO, O), (baltimore, VB, B-toloc.city_name)]\n",
       "5                                 [(i, JJ, O), ('d, MD, O), (like, VB, O), (to, TO, O), (see, VB, O), (all, DT, O), (flights, NNS, O), (from, IN, O), (denver, NN, B-fromloc.city_name), (to, TO, O), (philadelphia, VB, B-toloc.city_name)]\n",
       "dtype: object"
      ]
     },
     "execution_count": 17,
     "metadata": {},
     "output_type": "execute_result"
    }
   ],
   "source": [
    "# printing some sample queries in the form (word, pos, label)\n",
    "# train_labels = create_word_pos_label(train_data.pos, train_data.label)\n",
    "train_labels[4:6]"
   ]
  },
  {
   "cell_type": "code",
   "execution_count": 18,
   "metadata": {},
   "outputs": [],
   "source": [
    "# converting training, validation and test datasets to tree format\n",
    "train_trees = [conlltags2tree(sent) for sent in train_labels]\n",
    "valid_trees = [conlltags2tree(sent) for sent in valid_labels]\n",
    "test_trees = [conlltags2tree(sent) for sent in test_labels]"
   ]
  },
  {
   "cell_type": "code",
   "execution_count": 19,
   "metadata": {},
   "outputs": [
    {
     "data": {
      "image/png": "[encoded data removed]",
      "text/plain": [
       "Tree('S', [('what', 'WP'), ('is', 'VBZ'), ('the', 'DT'), ('price', 'NN'), ('of', 'IN'), Tree('airline_name', [('american', 'JJ'), ('airlines', 'NNS')]), ('flight', 'NN'), Tree('flight_number', [('DIGITDIGIT', 'NNP')]), ('from', 'IN'), Tree('fromloc.city_name', [('new', 'JJ'), ('york', 'NN')]), ('to', 'TO'), Tree('toloc.city_name', [('los', 'VB'), ('angeles', 'NNS')])])"
      ]
     },
     "execution_count": 19,
     "metadata": {},
     "output_type": "execute_result"
    }
   ],
   "source": [
    "train_trees[8]"
   ]
  },
  {
   "cell_type": "code",
   "execution_count": 20,
   "metadata": {},
   "outputs": [
    {
     "data": {
      "text/html": [
       "<div>\n",
       "<style scoped>\n",
       "    .dataframe tbody tr th:only-of-type {\n",
       "        vertical-align: middle;\n",
       "    }\n",
       "\n",
       "    .dataframe tbody tr th {\n",
       "        vertical-align: top;\n",
       "    }\n",
       "\n",
       "    .dataframe thead th {\n",
       "        text-align: right;\n",
       "    }\n",
       "</style>\n",
       "<table border=\"1\" class=\"dataframe\">\n",
       "  <thead>\n",
       "    <tr style=\"text-align: right;\">\n",
       "      <th></th>\n",
       "      <th>Word</th>\n",
       "      <th>pos</th>\n",
       "      <th>BOI</th>\n",
       "    </tr>\n",
       "  </thead>\n",
       "  <tbody>\n",
       "    <tr>\n",
       "      <th>0</th>\n",
       "      <td>what</td>\n",
       "      <td>WP</td>\n",
       "      <td>O</td>\n",
       "    </tr>\n",
       "    <tr>\n",
       "      <th>1</th>\n",
       "      <td>is</td>\n",
       "      <td>VBZ</td>\n",
       "      <td>O</td>\n",
       "    </tr>\n",
       "    <tr>\n",
       "      <th>2</th>\n",
       "      <td>the</td>\n",
       "      <td>DT</td>\n",
       "      <td>O</td>\n",
       "    </tr>\n",
       "    <tr>\n",
       "      <th>3</th>\n",
       "      <td>price</td>\n",
       "      <td>NN</td>\n",
       "      <td>O</td>\n",
       "    </tr>\n",
       "    <tr>\n",
       "      <th>4</th>\n",
       "      <td>of</td>\n",
       "      <td>IN</td>\n",
       "      <td>O</td>\n",
       "    </tr>\n",
       "    <tr>\n",
       "      <th>5</th>\n",
       "      <td>american</td>\n",
       "      <td>JJ</td>\n",
       "      <td>B-airline_name</td>\n",
       "    </tr>\n",
       "    <tr>\n",
       "      <th>6</th>\n",
       "      <td>airlines</td>\n",
       "      <td>NNS</td>\n",
       "      <td>I-airline_name</td>\n",
       "    </tr>\n",
       "    <tr>\n",
       "      <th>7</th>\n",
       "      <td>flight</td>\n",
       "      <td>NN</td>\n",
       "      <td>O</td>\n",
       "    </tr>\n",
       "    <tr>\n",
       "      <th>8</th>\n",
       "      <td>DIGITDIGIT</td>\n",
       "      <td>NNP</td>\n",
       "      <td>B-flight_number</td>\n",
       "    </tr>\n",
       "    <tr>\n",
       "      <th>9</th>\n",
       "      <td>from</td>\n",
       "      <td>IN</td>\n",
       "      <td>O</td>\n",
       "    </tr>\n",
       "    <tr>\n",
       "      <th>10</th>\n",
       "      <td>new</td>\n",
       "      <td>JJ</td>\n",
       "      <td>B-fromloc.city_name</td>\n",
       "    </tr>\n",
       "    <tr>\n",
       "      <th>11</th>\n",
       "      <td>york</td>\n",
       "      <td>NN</td>\n",
       "      <td>I-fromloc.city_name</td>\n",
       "    </tr>\n",
       "    <tr>\n",
       "      <th>12</th>\n",
       "      <td>to</td>\n",
       "      <td>TO</td>\n",
       "      <td>O</td>\n",
       "    </tr>\n",
       "    <tr>\n",
       "      <th>13</th>\n",
       "      <td>los</td>\n",
       "      <td>VB</td>\n",
       "      <td>B-toloc.city_name</td>\n",
       "    </tr>\n",
       "    <tr>\n",
       "      <th>14</th>\n",
       "      <td>angeles</td>\n",
       "      <td>NNS</td>\n",
       "      <td>I-toloc.city_name</td>\n",
       "    </tr>\n",
       "  </tbody>\n",
       "</table>\n",
       "</div>"
      ],
      "text/plain": [
       "          Word  pos                  BOI\n",
       "0         what   WP                    O\n",
       "1           is  VBZ                    O\n",
       "2          the   DT                    O\n",
       "3        price   NN                    O\n",
       "4           of   IN                    O\n",
       "5     american   JJ       B-airline_name\n",
       "6     airlines  NNS       I-airline_name\n",
       "7       flight   NN                    O\n",
       "8   DIGITDIGIT  NNP      B-flight_number\n",
       "9         from   IN                    O\n",
       "10         new   JJ  B-fromloc.city_name\n",
       "11        york   NN  I-fromloc.city_name\n",
       "12          to   TO                    O\n",
       "13         los   VB    B-toloc.city_name\n",
       "14     angeles  NNS    I-toloc.city_name"
      ]
     },
     "execution_count": 20,
     "metadata": {},
     "output_type": "execute_result"
    }
   ],
   "source": [
    "pd.DataFrame(train_labels[8], columns=['Word', 'pos', 'BOI']) #.drop('pos', axis=1).drop(8).reset_index().drop('index', axis=1)"
   ]
  },
  {
   "cell_type": "markdown",
   "metadata": {},
   "source": [
    "### Feature Extraction\n",
    "\n",
    "Like anyother machine learning classification models, we can have features for sequence labelling task. Features could be the morphology of the word  (upper/lowercase) , POS tags of the words in the neighbourhood, whether the word is present in the lookup dictionary of some most common entities like geograpyical locations etc."
   ]
  },
  {
   "cell_type": "markdown",
   "metadata": {},
   "source": [
    "### Gazetteer\n",
    "\n",
    "A gazetteer is a geographical directory which stores data regarding the names of geographical entities (cities, states, countries) and some other features related to the geographies. An example gazetteer file for the US is given below.\n",
    "\n",
    "Data download URL: https://raw.githubusercontent.com/grammakov/USA-cities-and-states/master/us_cities_states_counties.csv"
   ]
  },
  {
   "cell_type": "code",
   "execution_count": 21,
   "metadata": {},
   "outputs": [
    {
     "data": {
      "text/html": [
       "<div>\n",
       "<style scoped>\n",
       "    .dataframe tbody tr th:only-of-type {\n",
       "        vertical-align: middle;\n",
       "    }\n",
       "\n",
       "    .dataframe tbody tr th {\n",
       "        vertical-align: top;\n",
       "    }\n",
       "\n",
       "    .dataframe thead th {\n",
       "        text-align: right;\n",
       "    }\n",
       "</style>\n",
       "<table border=\"1\" class=\"dataframe\">\n",
       "  <thead>\n",
       "    <tr style=\"text-align: right;\">\n",
       "      <th></th>\n",
       "      <th>City</th>\n",
       "      <th>State short</th>\n",
       "      <th>State full</th>\n",
       "      <th>County</th>\n",
       "      <th>City alias</th>\n",
       "    </tr>\n",
       "  </thead>\n",
       "  <tbody>\n",
       "    <tr>\n",
       "      <th>0</th>\n",
       "      <td>Holtsville</td>\n",
       "      <td>NY</td>\n",
       "      <td>New York</td>\n",
       "      <td>SUFFOLK</td>\n",
       "      <td>Internal Revenue Service</td>\n",
       "    </tr>\n",
       "    <tr>\n",
       "      <th>1</th>\n",
       "      <td>Holtsville</td>\n",
       "      <td>NY</td>\n",
       "      <td>New York</td>\n",
       "      <td>SUFFOLK</td>\n",
       "      <td>Holtsville</td>\n",
       "    </tr>\n",
       "    <tr>\n",
       "      <th>2</th>\n",
       "      <td>Adjuntas</td>\n",
       "      <td>PR</td>\n",
       "      <td>Puerto Rico</td>\n",
       "      <td>ADJUNTAS</td>\n",
       "      <td>URB San Joaquin</td>\n",
       "    </tr>\n",
       "    <tr>\n",
       "      <th>3</th>\n",
       "      <td>Adjuntas</td>\n",
       "      <td>PR</td>\n",
       "      <td>Puerto Rico</td>\n",
       "      <td>ADJUNTAS</td>\n",
       "      <td>Jard De Adjuntas</td>\n",
       "    </tr>\n",
       "    <tr>\n",
       "      <th>4</th>\n",
       "      <td>Adjuntas</td>\n",
       "      <td>PR</td>\n",
       "      <td>Puerto Rico</td>\n",
       "      <td>ADJUNTAS</td>\n",
       "      <td>Colinas Del Gigante</td>\n",
       "    </tr>\n",
       "  </tbody>\n",
       "</table>\n",
       "</div>"
      ],
      "text/plain": [
       "         City State short   State full    County                City alias\n",
       "0  Holtsville          NY     New York   SUFFOLK  Internal Revenue Service\n",
       "1  Holtsville          NY     New York   SUFFOLK                Holtsville\n",
       "2    Adjuntas          PR  Puerto Rico  ADJUNTAS           URB San Joaquin\n",
       "3    Adjuntas          PR  Puerto Rico  ADJUNTAS          Jard De Adjuntas\n",
       "4    Adjuntas          PR  Puerto Rico  ADJUNTAS       Colinas Del Gigante"
      ]
     },
     "execution_count": 21,
     "metadata": {},
     "output_type": "execute_result"
    }
   ],
   "source": [
    "# reading a file containing list of US cities, states and counties\n",
    "us_cities = pd.read_csv(\"data/us_cities_states_counties.csv\", sep=\"|\")\n",
    "us_cities.head()"
   ]
  },
  {
   "cell_type": "code",
   "execution_count": 22,
   "metadata": {},
   "outputs": [],
   "source": [
    "# storing cities, states and counties as sets\n",
    "cities = set(us_cities['City'].str.lower())\n",
    "states = set(us_cities['State full'].str.lower())\n",
    "counties = set(us_cities['County'].str.lower())"
   ]
  },
  {
   "cell_type": "code",
   "execution_count": 23,
   "metadata": {},
   "outputs": [],
   "source": [
    "# define a function to look up a given word in cities, states, county\n",
    "def gazetteer_lookup(word):\n",
    "    return (word in cities, word in states, word in counties)"
   ]
  },
  {
   "cell_type": "code",
   "execution_count": 24,
   "metadata": {},
   "outputs": [
    {
     "data": {
      "text/plain": [
       "(True, False, False)"
      ]
     },
     "execution_count": 24,
     "metadata": {},
     "output_type": "execute_result"
    }
   ],
   "source": [
    "gazetteer_lookup('huston')"
   ]
  },
  {
   "cell_type": "markdown",
   "metadata": {},
   "source": [
    "Lets create a function to extract some of the useful predictors of IOB labels, such as, the word itself,  pos tag, previous pos, word_is_city, word_is_state, and word_is_country."
   ]
  },
  {
   "cell_type": "code",
   "execution_count": 25,
   "metadata": {},
   "outputs": [],
   "source": [
    "def npchunk_features(sentence, i, history=[]):\n",
    "    word, pos = sentence[i]\n",
    "    \n",
    "    #the first word has both prv and next tag undefined\n",
    "    if i==0:\n",
    "        prevword, prevpos = \"<START>\", \"<START>\"\n",
    "    else:\n",
    "        prevword, prevpos = sentence[i-1]\n",
    "        \n",
    "    gazetteer = gazetteer_lookup(word)\n",
    "    \n",
    "    return {\"pos\":pos, \"prevpos\": prevpos, \"word\":word,\n",
    "           \"word_is_city\": gazetteer[0],\n",
    "           \"word_is_state\": gazetteer[1],\n",
    "           \"word_is_country\": gazetteer[2]}"
   ]
  },
  {
   "cell_type": "code",
   "execution_count": 26,
   "metadata": {},
   "outputs": [
    {
     "data": {
      "text/plain": [
       "[('show', 'VB'),\n",
       " ('me', 'PRP'),\n",
       " ('the', 'DT'),\n",
       " ('us', 'PRP'),\n",
       " ('air', 'NN'),\n",
       " ('flights', 'NNS'),\n",
       " ('from', 'IN'),\n",
       " ('atlanta', 'NN'),\n",
       " ('to', 'TO'),\n",
       " ('boston', 'VB')]"
      ]
     },
     "execution_count": 26,
     "metadata": {},
     "output_type": "execute_result"
    }
   ],
   "source": [
    "train_data.pos.at[3]"
   ]
  },
  {
   "cell_type": "code",
   "execution_count": 27,
   "metadata": {},
   "outputs": [
    {
     "name": "stdout",
     "output_type": "stream",
     "text": [
      "{'pos': 'VB', 'prevpos': '<START>', 'word': 'show', 'word_is_city': False, 'word_is_state': False, 'word_is_country': False}\n",
      "{'pos': 'PRP', 'prevpos': 'VB', 'word': 'me', 'word_is_city': False, 'word_is_state': False, 'word_is_country': False}\n",
      "{'pos': 'DT', 'prevpos': 'PRP', 'word': 'the', 'word_is_city': False, 'word_is_state': False, 'word_is_country': False}\n",
      "{'pos': 'PRP', 'prevpos': 'DT', 'word': 'us', 'word_is_city': False, 'word_is_state': False, 'word_is_country': False}\n",
      "{'pos': 'NN', 'prevpos': 'PRP', 'word': 'air', 'word_is_city': False, 'word_is_state': False, 'word_is_country': False}\n",
      "{'pos': 'NNS', 'prevpos': 'NN', 'word': 'flights', 'word_is_city': False, 'word_is_state': False, 'word_is_country': False}\n",
      "{'pos': 'IN', 'prevpos': 'NNS', 'word': 'from', 'word_is_city': False, 'word_is_state': False, 'word_is_country': False}\n",
      "{'pos': 'NN', 'prevpos': 'IN', 'word': 'atlanta', 'word_is_city': True, 'word_is_state': False, 'word_is_country': False}\n",
      "{'pos': 'TO', 'prevpos': 'NN', 'word': 'to', 'word_is_city': False, 'word_is_state': False, 'word_is_country': False}\n",
      "{'pos': 'VB', 'prevpos': 'TO', 'word': 'boston', 'word_is_city': True, 'word_is_state': False, 'word_is_country': False}\n"
     ]
    }
   ],
   "source": [
    "for i in range(len(train_data.pos.at[3])):\n",
    "    print(npchunk_features(train_data.pos.at[3], i))"
   ]
  },
  {
   "cell_type": "markdown",
   "metadata": {},
   "source": [
    "## Model - DecisionTreeClassifier\n",
    "\n",
    "Now, we define two classes ConsecutiveNPChunkTagger and ConsecutiveNPChunker.\n",
    "\n",
    "The __init__ method of the ConsecutiveNPChunkTagger class creates the train_set which is a list of labelled training sentences. Each sentence is a list of tuples (featureset, tag) - each tuple is the featureset (dict) of a word and its label.\n",
    "\n",
    "The list history contains the list of previously predicted IOB tags, i.e. tags to the left of the target word. We can only use IOB tags to the left of the target word since that's all the tags we have at the time of prediction.\n",
    "\n",
    "The __init__ method takes in an IOB tagged list of train_sents and loops through them. It first untags the IOB tags to generate (word, pos_tag) tuples stored in untagged_sent. These tuples are used to compute the word features.\n",
    "\n",
    "Then for each (word, IOB_tag) in tagged_sent, it computes the word features and appends the feature dict and the tag to train_sents. It further appends the IOB tag to history.\n",
    "\n",
    "The tag() method simply takes in a sentence as a list of words and predicts the IOB label of each word in the sentence.\n",
    "\n",
    "The ConsecutiveNPChunker class does all the the uninteresting work of converting between tree-list-tree formats (since NLTK's builtin classifiers need the list format). It takes in a list of sentences as trees, converts each sentence to the list form, and then initialises its tagger using methods already defined in the ConsecutiveNPChunkTagger class. The parse method tags the sentence and returns it in the tree format since it is easier to print and read."
   ]
  },
  {
   "cell_type": "code",
   "execution_count": 28,
   "metadata": {},
   "outputs": [],
   "source": [
    "#Using NLTK's Naive Bayes Classifier\n",
    "class ConsecutiveNPChunkTagger(nltk.TaggerI): \n",
    "\n",
    "    def __init__(self, train_sents):\n",
    "        train_set = []\n",
    "        for tagged_sent in train_sents:\n",
    "            untagged_sent = nltk.tag.untag(tagged_sent)\n",
    "            history = []\n",
    "            # compute features for each word\n",
    "            for i, (word, tag) in enumerate(tagged_sent):\n",
    "                featureset = npchunk_features(untagged_sent, i, history) \n",
    "                train_set.append( (featureset, tag) )\n",
    "                history.append(tag)\n",
    "        self.classifier = nltk.NaiveBayesClassifier.train(train_set)\n",
    "\n",
    "    def tag(self, sentence):\n",
    "        history = []\n",
    "        for i, word in enumerate(sentence):\n",
    "            featureset = npchunk_features(sentence, i, history)\n",
    "            tag = self.classifier.classify(featureset)\n",
    "            history.append(tag)\n",
    "        return zip(sentence, history)\n",
    "\n",
    "class ConsecutiveNPChunker(nltk.ChunkParserI): \n",
    "    def __init__(self, train_sents):\n",
    "        tagged_sents = [[((w,t),c) for (w,t,c) in\n",
    "                         nltk.chunk.tree2conlltags(sent)]\n",
    "                        for sent in train_sents]\n",
    "        self.tagger = ConsecutiveNPChunkTagger(tagged_sents)\n",
    "\n",
    "    def parse(self, sentence):\n",
    "        tagged_sents = self.tagger.tag(sentence)\n",
    "        conlltags = [(w,t,c) for ((w,t),c) in tagged_sents]\n",
    "        return nltk.chunk.conlltags2tree(conlltags)"
   ]
  },
  {
   "cell_type": "code",
   "execution_count": 29,
   "metadata": {},
   "outputs": [
    {
     "name": "stdout",
     "output_type": "stream",
     "text": [
      "ChunkParse score:\n",
      "    IOB Accuracy:  91.7%%\n",
      "    Precision:     75.3%%\n",
      "    Recall:        81.8%%\n",
      "    F-Measure:     78.4%%\n"
     ]
    }
   ],
   "source": [
    "# train and evaluate the decision tree chunker\n",
    "tree_chunker = ConsecutiveNPChunker(train_trees)\n",
    "print(tree_chunker.evaluate(valid_trees))"
   ]
  },
  {
   "cell_type": "code",
   "execution_count": 30,
   "metadata": {},
   "outputs": [],
   "source": [
    "# Decision Tree Classifier\n",
    "class ConsecutiveNPChunkTagger(nltk.TaggerI): \n",
    "\n",
    "    def __init__(self, train_sents):\n",
    "        train_set = []\n",
    "        for tagged_sent in train_sents:\n",
    "            untagged_sent = nltk.tag.untag(tagged_sent)\n",
    "            history = []\n",
    "            # compute features for each word\n",
    "            for i, (word, tag) in enumerate(tagged_sent):\n",
    "                featureset = npchunk_features(untagged_sent, i, history) \n",
    "                train_set.append( (featureset, tag) )\n",
    "                history.append(tag)\n",
    "        self.classifier = nltk.DecisionTreeClassifier.train(train_set)\n",
    "\n",
    "    def tag(self, sentence):\n",
    "        history = []\n",
    "        for i, word in enumerate(sentence):\n",
    "            featureset = npchunk_features(sentence, i, history)\n",
    "            tag = self.classifier.classify(featureset)\n",
    "            history.append(tag)\n",
    "        return zip(sentence, history)\n",
    "\n",
    "class ConsecutiveNPChunker(nltk.ChunkParserI): \n",
    "    def __init__(self, train_sents):\n",
    "        tagged_sents = [[((w,t),c) for (w,t,c) in\n",
    "                         nltk.chunk.tree2conlltags(sent)]\n",
    "                        for sent in train_sents]\n",
    "        self.tagger = ConsecutiveNPChunkTagger(tagged_sents)\n",
    "\n",
    "    def parse(self, sentence):\n",
    "        tagged_sents = self.tagger.tag(sentence)\n",
    "        conlltags = [(w,t,c) for ((w,t),c) in tagged_sents]\n",
    "        return nltk.chunk.conlltags2tree(conlltags)"
   ]
  },
  {
   "cell_type": "code",
   "execution_count": 31,
   "metadata": {},
   "outputs": [
    {
     "name": "stdout",
     "output_type": "stream",
     "text": [
      "ChunkParse score:\n",
      "    IOB Accuracy:  94.0%%\n",
      "    Precision:     82.1%%\n",
      "    Recall:        84.8%%\n",
      "    F-Measure:     83.4%%\n"
     ]
    }
   ],
   "source": [
    "# train and evaluate the decision tree chunker\n",
    "tree_chunker = ConsecutiveNPChunker(train_trees)\n",
    "print(tree_chunker.evaluate(valid_trees))"
   ]
  },
  {
   "cell_type": "code",
   "execution_count": 32,
   "metadata": {},
   "outputs": [
    {
     "data": {
      "text/html": [
       "<div>\n",
       "<style scoped>\n",
       "    .dataframe tbody tr th:only-of-type {\n",
       "        vertical-align: middle;\n",
       "    }\n",
       "\n",
       "    .dataframe tbody tr th {\n",
       "        vertical-align: top;\n",
       "    }\n",
       "\n",
       "    .dataframe thead th {\n",
       "        text-align: right;\n",
       "    }\n",
       "</style>\n",
       "<table border=\"1\" class=\"dataframe\">\n",
       "  <thead>\n",
       "    <tr style=\"text-align: right;\">\n",
       "      <th></th>\n",
       "      <th>Model</th>\n",
       "      <th>Score</th>\n",
       "      <th>Value</th>\n",
       "    </tr>\n",
       "  </thead>\n",
       "  <tbody>\n",
       "    <tr>\n",
       "      <th>1</th>\n",
       "      <td>Decision Tree</td>\n",
       "      <td>Accuracy</td>\n",
       "      <td>94.0</td>\n",
       "    </tr>\n",
       "    <tr>\n",
       "      <th>3</th>\n",
       "      <td>Decision Tree</td>\n",
       "      <td>Precision</td>\n",
       "      <td>82.1</td>\n",
       "    </tr>\n",
       "    <tr>\n",
       "      <th>5</th>\n",
       "      <td>Decision Tree</td>\n",
       "      <td>Recall</td>\n",
       "      <td>84.8</td>\n",
       "    </tr>\n",
       "    <tr>\n",
       "      <th>7</th>\n",
       "      <td>Decision Tree</td>\n",
       "      <td>F-Score</td>\n",
       "      <td>83.4</td>\n",
       "    </tr>\n",
       "    <tr>\n",
       "      <th>0</th>\n",
       "      <td>Naive Bayes</td>\n",
       "      <td>Accuracy</td>\n",
       "      <td>91.7</td>\n",
       "    </tr>\n",
       "    <tr>\n",
       "      <th>2</th>\n",
       "      <td>Naive Bayes</td>\n",
       "      <td>Precision</td>\n",
       "      <td>75.3</td>\n",
       "    </tr>\n",
       "    <tr>\n",
       "      <th>4</th>\n",
       "      <td>Naive Bayes</td>\n",
       "      <td>Recall</td>\n",
       "      <td>81.8</td>\n",
       "    </tr>\n",
       "    <tr>\n",
       "      <th>6</th>\n",
       "      <td>Naive Bayes</td>\n",
       "      <td>F-Score</td>\n",
       "      <td>78.4</td>\n",
       "    </tr>\n",
       "  </tbody>\n",
       "</table>\n",
       "</div>"
      ],
      "text/plain": [
       "           Model      Score  Value\n",
       "1  Decision Tree   Accuracy   94.0\n",
       "3  Decision Tree  Precision   82.1\n",
       "5  Decision Tree     Recall   84.8\n",
       "7  Decision Tree    F-Score   83.4\n",
       "0    Naive Bayes   Accuracy   91.7\n",
       "2    Naive Bayes  Precision   75.3\n",
       "4    Naive Bayes     Recall   81.8\n",
       "6    Naive Bayes    F-Score   78.4"
      ]
     },
     "execution_count": 32,
     "metadata": {},
     "output_type": "execute_result"
    }
   ],
   "source": [
    "scores = pd.DataFrame({'Model': ['Naive Bayes', 'Decision Tree', 'Naive Bayes', 'Decision Tree', 'Naive Bayes', 'Decision Tree', 'Naive Bayes', 'Decision Tree'], \n",
    "              'Score':['Accuracy', 'Accuracy' , 'Precision', 'Precision', 'Recall', 'Recall', 'F-Score', 'F-Score'], \n",
    "              'Value':[91.7, 94, 75.3, 82.1, 81.8, 84.8, 78.4, 83.4]})\n",
    "\n",
    "scores.sort_values(by='Model')"
   ]
  },
  {
   "cell_type": "code",
   "execution_count": 33,
   "metadata": {},
   "outputs": [
    {
     "data": {
      "text/plain": [
       "<seaborn.axisgrid.FacetGrid at 0x23a50728908>"
      ]
     },
     "execution_count": 33,
     "metadata": {},
     "output_type": "execute_result"
    },
    {
     "data": {
      "image/png": "[encoded data removed]",
      "text/plain": [
       "<Figure size 493.034x432 with 1 Axes>"
      ]
     },
     "metadata": {
      "needs_background": "light"
     },
     "output_type": "display_data"
    }
   ],
   "source": [
    "import seaborn as sns\n",
    "\n",
    "a_plot = sns.catplot(x=\"Score\", y=\"Value\", hue=\"Model\", data=scores, kind=\"bar\", height=6, aspect=.9, palette='pastel')\n",
    "\n",
    "a_plot.set(ylim=(50, 100))"
   ]
  },
  {
   "cell_type": "markdown",
   "metadata": {},
   "source": [
    "We can of course also tune the decision tree hyperparameters (maxdepth, num_leaves, min_sample_split etc.) to optimize the model as per the need."
   ]
  }
 ],
 "metadata": {
  "kernelspec": {
   "display_name": "Python 3",
   "language": "python",
   "name": "python3"
  },
  "language_info": {
   "codemirror_mode": {
    "name": "ipython",
    "version": 3
   },
   "file_extension": ".py",
   "mimetype": "text/x-python",
   "name": "python",
   "nbconvert_exporter": "python",
   "pygments_lexer": "ipython3",
   "version": "3.7.6"
  }
 },
 "nbformat": 4,
 "nbformat_minor": 4
}
